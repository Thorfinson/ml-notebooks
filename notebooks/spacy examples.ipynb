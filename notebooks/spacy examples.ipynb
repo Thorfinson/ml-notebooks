{
 "cells": [
  {
   "cell_type": "markdown",
   "id": "smoking-officer",
   "metadata": {},
   "source": [
    "# Collection of spacy Tests and Examples\n",
    "\n",
    "Load spacy and english core web small model. Find the noun chunks, to use later on in LDA. Then find the named entities."
   ]
  },
  {
   "cell_type": "code",
   "execution_count": 3,
   "id": "sexual-comfort",
   "metadata": {},
   "outputs": [
    {
     "name": "stdout",
     "output_type": "stream",
     "text": [
      "Autonomous cars cars nsubj shift\n",
      "insurance liability liability dobj shift\n",
      "manufacturers manufacturers pobj toward\n"
     ]
    }
   ],
   "source": [
    "import spacy\n",
    "\n",
    "nlp = spacy.load(\"en_core_web_sm\")\n",
    "doc = nlp(\"Autonomous cars shift insurance liability toward manufacturers\")\n",
    "for chunk in doc.noun_chunks:\n",
    "    print(chunk.text, chunk.root.text, chunk.root.dep_,\n",
    "            chunk.root.head.text)"
   ]
  },
  {
   "cell_type": "code",
   "execution_count": 4,
   "id": "pacific-pacific",
   "metadata": {},
   "outputs": [
    {
     "name": "stdout",
     "output_type": "stream",
     "text": [
      "Apple 0 5 ORG\n",
      "U.K. 27 31 GPE\n",
      "$1 billion 44 54 MONEY\n"
     ]
    }
   ],
   "source": [
    "nlp = spacy.load(\"en_core_web_sm\")\n",
    "doc = nlp(\"Apple is looking at buying U.K. startup for $1 billion\")\n",
    "\n",
    "for ent in doc.ents:\n",
    "    print(ent.text, ent.start_char, ent.end_char, ent.label_)"
   ]
  },
  {
   "cell_type": "code",
   "execution_count": 12,
   "id": "affiliated-concentration",
   "metadata": {},
   "outputs": [
    {
     "data": {
      "text/plain": [
       "\"Message-ID: <4729937.1075853966423.JavaMail.evans@thyme>\\nDate: Wed, 13 Dec 2000 09:39:00 -0800 (PST)\\nFrom: victor.lamadrid@enron.com\\nTo: meredith.mitchell@enron.com, cynthia.franklin@enron.com, \\n\\tjackie.young@enron.com, daren.farmer@enron.com\\nSubject: Re: HPL discrepancy\\nMime-Version: 1.0\\nContent-Type: text/plain; charset=us-ascii\\nContent-Transfer-Encoding: 7bit\\nX-From: Victor Lamadrid\\nX-To: Meredith Mitchell, Cynthia Franklin, Jackie Young, Daren J Farmer\\nX-cc: \\nX-bcc: \\nX-Folder: \\\\Darren_Farmer_Dec2000\\\\Notes Folders\\\\All documents\\nX-Origin: Farmer-D\\nX-FileName: dfarmer.nsf\\n\\nIs this Enerfin gas we delivered?  What are the deal numbers in Sitara and \\nhow much volume are we talking about?\\nDarren, Isn't there an OBA set up in Enerfin that can handle small volumes?  \\nTHANKS\\n\\n\\n   \\n\\t\\n\\t\\n\\tFrom:  Meredith Mitchell                           12/12/2000 08:34 AM\\n\\t\\n\\nTo: Victor Lamadrid/HOU/ECT@ECT\\ncc:  \\nSubject: HPL discrepancy\\n\\nVictor,\\n\\nWhat's your opinion on this?  Can we go back and add days to prior month \\ndeals?  Do we use the same price?  If we do decide to do this, we will need \\nto get TETCO to agree to do a retro for those days as well.\\n\\n\\n\\nJackie Young\\n12/11/2000 03:53 PM\\nTo: Cynthia Franklin/Corp/Enron@ENRON, Meredith Mitchell/HOU/ECT@ECT\\ncc: Daren J Farmer/HOU/ECT@ECT \\nSubject: 10/2000 - Days 6 and 19 (98-0439)\\n\\nThe above referenced days have been placed on strangers gas due to (I guess) \\nthe meter not being turned off in time.  The day prior to each of these days \\nthat are assessed to strangers gas, the only active K is the HPL 216.\\n\\nCan these deals be rolled to cover these couple of days?\\n\\nThanks\\n-Jackie-\\n3-9497\\n\\n\\n\""
      ]
     },
     "execution_count": 12,
     "metadata": {},
     "output_type": "execute_result"
    }
   ],
   "source": [
    "file = \"../data/2_\"\n",
    "with open(file, 'r') as text:\n",
    "    textfile = text.read()\n",
    "textfile"
   ]
  },
  {
   "cell_type": "code",
   "execution_count": 17,
   "id": "electric-trace",
   "metadata": {},
   "outputs": [
    {
     "name": "stdout",
     "output_type": "stream",
     "text": [
      "['Message-ID', 'Date', 'Wed', '(PST', '\\nSubject', 'HPL discrepancy', 'Mime-Version', '-Type', '7bit', 'X', 'Victor Lamadrid', 'X', 'Meredith Mitchell', 'Cynthia Franklin', 'Jackie Young', 'Daren J Farmer', '\\nX', '-', 'cc', 'X', '-', 'bcc', 'X', '-', 'Folder', '\\\\Darren_Farmer_Dec2000\\\\Notes', 'documents', '\\nX-Origin', 'Farmer-D', 'X', 'FileName', 'this Enerfin gas', 'we', 'What', 'the deal numbers', 'Sitara', 'how much volume', 'we', 'an OBA', 'Enerfin', 'small volumes', ' \\nTHANKS', '08:34 AM', '\\n\\t\\n\\nTo: Victor Lamadrid/HOU/ECT@ECT\\ncc', 'HPL discrepancy', 'What', 'your opinion', 'we', 'days', 'prior month \\ndeals', 'we', 'the same price', 'we', 'we', 'a retro', 'those days', '\\n\\n\\n\\nJackie Young', 'PM', 'Cynthia Franklin/Corp/Enron@ENRON', 'Meredith Mitchell/HOU/ECT@ECT\\ncc', 'Daren J Farmer/HOU/ECT@ECT \\nSubject', '10/2000 - Days', 'The above referenced days', 'strangers gas', 'I', 'the meter', 'time', 'these days', 'strangers gas', 'the only active K', 'the HPL', 'these deals', 'these couple', 'days', 'Thanks']\n",
      "['13:CARDINAL', 'Dec 2000:DATE', '-0800:ORG', 'PST:ORG', '1.0:CARDINAL', 'Content-Type:PERSON', 'Content-Transfer-Encoding:PERSON', 'Meredith Mitchell:PERSON', 'Cynthia Franklin:PERSON', 'Jackie Young:PERSON', 'Daren J Farmer\\nX-cc:PERSON', 'Farmer-D:PERSON', 'Sitara:GPE', 'OBA:ORG', 'Enerfin:GPE', 'Meredith Mitchell:PERSON', '08:34 AM\\n\\t\\n\\n:TIME', 'Victor Lamadrid:PERSON', 'HOU/ECT@ECT\\n:ORG', 'those days:DATE', 'Jackie Young:PERSON', '12/11/2000 03:53:DATE', 'Cynthia Franklin/Corp/Enron@ENRON:PERSON', 'Meredith Mitchell:PERSON', 'HOU/ECT@ECT\\n:ORG', 'Daren J Farmer/HOU/ECT@ECT \\nSubject:PERSON', '10/2000 - Days:DATE', '98-0439:DATE', 'K:ORG', 'these couple of days:DATE', '3-9497:DATE']\n"
     ]
    }
   ],
   "source": [
    "doc = nlp(textfile)\n",
    "chunks = []\n",
    "ents = []\n",
    "for chunk in doc.noun_chunks:\n",
    "    chunks.append(chunk.text)\n",
    "for ent in doc.ents:\n",
    "    ents.append(ent.text + \":\" +ent.label_)\n",
    "print(chunks)\n",
    "print(ents)"
   ]
  },
  {
   "cell_type": "code",
   "execution_count": null,
   "id": "knowing-sally",
   "metadata": {},
   "outputs": [],
   "source": []
  }
 ],
 "metadata": {
  "kernelspec": {
   "display_name": "Python 3",
   "language": "python",
   "name": "python3"
  },
  "language_info": {
   "codemirror_mode": {
    "name": "ipython",
    "version": 3
   },
   "file_extension": ".py",
   "mimetype": "text/x-python",
   "name": "python",
   "nbconvert_exporter": "python",
   "pygments_lexer": "ipython3",
   "version": "3.8.8"
  }
 },
 "nbformat": 4,
 "nbformat_minor": 5
}
